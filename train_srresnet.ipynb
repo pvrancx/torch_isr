{
  "nbformat": 4,
  "nbformat_minor": 0,
  "metadata": {
    "colab": {
      "name": "bsd300.ipynb",
      "provenance": [],
      "collapsed_sections": [],
      "authorship_tag": "ABX9TyM7DUmeSqbSQ7LvsmKovRIQ",
      "include_colab_link": true
    },
    "kernelspec": {
      "name": "python3",
      "display_name": "Python 3"
    },
    "accelerator": "GPU"
  },
  "cells": [
    {
      "cell_type": "markdown",
      "metadata": {
        "id": "view-in-github",
        "colab_type": "text"
      },
      "source": [
        "<a href=\"https://colab.research.google.com/github/pvrancx/torch_isr/blob/master/train_srresnet.ipynb\" target=\"_parent\"><img src=\"https://colab.research.google.com/assets/colab-badge.svg\" alt=\"Open In Colab\"/></a>"
      ]
    },
    {
      "cell_type": "code",
      "metadata": {
        "id": "-5mHu3BHsLjZ",
        "colab_type": "code",
        "colab": {}
      },
      "source": [
        "! pip install pytorch-lightning"
      ],
      "execution_count": 0,
      "outputs": []
    },
    {
      "cell_type": "markdown",
      "metadata": {
        "id": "0D9sNNh_5gCp",
        "colab_type": "text"
      },
      "source": [
        "Checkout ISR github repo"
      ]
    },
    {
      "cell_type": "code",
      "metadata": {
        "id": "Dkeshw_ureaV",
        "colab_type": "code",
        "colab": {}
      },
      "source": [
        "% cd \"/content\"\n",
        "! git clone \"https://github.com/pvrancx/torch_isr.git\"\n",
        "% cd \"/content/torch_isr\"\n",
        "! git pull"
      ],
      "execution_count": 0,
      "outputs": []
    },
    {
      "cell_type": "code",
      "metadata": {
        "id": "HwY8VdrAsHca",
        "colab_type": "code",
        "colab": {}
      },
      "source": [
        "from pytorch_lightning import Trainer\n",
        "import torch\n",
        "from torch.utils.data import random_split, DataLoader\n",
        "from torchvision.transforms import transforms\n",
        "from pytorch_lightning.callbacks import ModelCheckpoint\n",
        "from pytorch_lightning.loggers import TensorBoardLogger\n",
        "\n",
        "from isr.datasets.bsd import load_bsd300\n",
        "from isr.datasets.transforms import ChannelSelect\n",
        "from isr.datasets.isr import IsrDataset\n",
        "from isr.models.srcnn import SrCnn, SubPixelSrCnn\n",
        "from isr.models.srresnet import SrResNet\n",
        "from super_resolve import super_resolve_ycbcr, super_resolve_rgb\n",
        "\n",
        "import os\n",
        "from PIL import Image\n",
        "from argparse import ArgumentParser\n",
        "import matplotlib.pyplot as plt\n",
        "%matplotlib inline"
      ],
      "execution_count": 0,
      "outputs": []
    },
    {
      "cell_type": "markdown",
      "metadata": {
        "id": "3hbnRUhW51Pv",
        "colab_type": "text"
      },
      "source": [
        "Configure experiment"
      ]
    },
    {
      "cell_type": "code",
      "metadata": {
        "id": "hYyM4fz9xzEu",
        "colab_type": "code",
        "colab": {}
      },
      "source": [
        "img_mode = 'RGB'\n",
        "scale_factor = 4\n",
        "output_size = 200\n",
        "max_epochs = 2000\n",
        "model_type = SrResNet"
      ],
      "execution_count": 0,
      "outputs": []
    },
    {
      "cell_type": "markdown",
      "metadata": {
        "id": "Aa64Tge057Ry",
        "colab_type": "text"
      },
      "source": [
        "Download and load datasets"
      ]
    },
    {
      "cell_type": "code",
      "metadata": {
        "id": "C183KIG5xwDk",
        "colab_type": "code",
        "colab": {}
      },
      "source": [
        "bsd300_train = load_bsd300('../data', split='train', image_mode=img_mode)\n",
        "bsd300_test = load_bsd300('../data', split='test', image_mode=img_mode)\n",
        "\n",
        "if img_mode == 'RGB':\n",
        "  train_transforms = transforms.Compose([\n",
        "    transforms.RandomHorizontalFlip(),\n",
        "    transforms.RandomRotation(15),\n",
        "    ])\n",
        "  test_transforms = None\n",
        "elif img_mode == 'yCbCr':\n",
        "    train_transforms = transforms.Compose([\n",
        "      ChannelSelect(0),\n",
        "      transforms.RandomHorizontalFlip(),\n",
        "      transforms.RandomRotation(15),\n",
        "    ])\n",
        "    test_transforms = ChannelSelect(0)\n",
        "\n",
        "train_data = IsrDataset(\n",
        "  bsd300_train,\n",
        "  output_size=output_size,\n",
        "  scale_factor=scale_factor,\n",
        "  deterministic=False,\n",
        "  base_image_transform=train_transforms,\n",
        "  transform=transforms.ToTensor(),\n",
        "  target_transform=transforms.ToTensor()\n",
        ")\n",
        "\n",
        "n_train = int(len(train_data) * 0.8)\n",
        "split = [n_train, len(train_data) - n_train]\n",
        "\n",
        "train_data, val_data = random_split(train_data, split)\n",
        "test_data = IsrDataset(\n",
        "  bsd300_test,\n",
        "  output_size=output_size,\n",
        "  scale_factor=scale_factor,\n",
        "  deterministic=True,\n",
        "  base_image_transform=test_transforms,\n",
        "  transform=transforms.ToTensor(),\n",
        "  target_transform=transforms.ToTensor()\n",
        ")\n",
        "\n",
        "train_loader = DataLoader(train_data, shuffle=True, batch_size=32, num_workers=2)\n",
        "val_loader = DataLoader(val_data, shuffle=False, batch_size=32, num_workers=2)\n",
        "test_loader = DataLoader(test_data, shuffle=False, batch_size=32, num_workers=2)"
      ],
      "execution_count": 0,
      "outputs": []
    },
    {
      "cell_type": "markdown",
      "metadata": {
        "id": "47kWe3SV6JJL",
        "colab_type": "text"
      },
      "source": [
        "Mount google drive to setup logging and checkpointing"
      ]
    },
    {
      "cell_type": "code",
      "metadata": {
        "id": "J6xcju0QrJKV",
        "colab_type": "code",
        "colab": {}
      },
      "source": [
        "from google.colab import drive\n",
        "drive.mount('/content/gdrive')"
      ],
      "execution_count": 0,
      "outputs": []
    },
    {
      "cell_type": "code",
      "metadata": {
        "id": "yIWuXD6Pye79",
        "colab_type": "code",
        "colab": {}
      },
      "source": [
        "base_dir = os.path.join('/content/gdrive/My Drive/pytorch/isr/bsd300/', model_type.__name__)\n",
        "chkptdir_dir = os.path.join(base_dir, 'checkpoints')\n",
        "\n",
        "!mkdir -p chkptdir_dir\n",
        "\n",
        "checkpoint_callback = ModelCheckpoint(\n",
        "  filepath=chkptdir_dir,\n",
        "  save_top_k=3,\n",
        "  verbose=False,\n",
        "  monitor='val_loss',\n",
        "  mode='min'\n",
        ")\n",
        "\n",
        "logger = TensorBoardLogger(base_dir, name=\"tb_logs\")"
      ],
      "execution_count": 0,
      "outputs": []
    },
    {
      "cell_type": "markdown",
      "metadata": {
        "id": "439tvl9d6YNi",
        "colab_type": "text"
      },
      "source": [
        "Configure and create model"
      ]
    },
    {
      "cell_type": "code",
      "metadata": {
        "id": "d-eSruV0zqHB",
        "colab_type": "code",
        "colab": {}
      },
      "source": [
        "# get default arg settings\n",
        "parser = ArgumentParser()\n",
        "parser = Trainer.add_argparse_args(parser)\n",
        "parser = model_type.add_model_specific_args(parser)\n",
        "hparams = parser.parse_args([])\n",
        "\n",
        "# customize settings\n",
        "hparams.img_mode = img_mode\n",
        "hparams.scale_factor = scale_factor\n",
        "hparams.learning_rate = 1e-4\n",
        "hparams.in_channels = 3\n",
        "hparams.n_blocks = 16\n",
        "hparams.max_epochs = max_epochs\n",
        "hparams.lr_epochs = max_epochs\n",
        "\n",
        "model = model_type(hparams)\n"
      ],
      "execution_count": 0,
      "outputs": []
    },
    {
      "cell_type": "markdown",
      "metadata": {
        "id": "aHulRGjB7X_m",
        "colab_type": "text"
      },
      "source": [
        "Start tensorboard for monitoring"
      ]
    },
    {
      "cell_type": "code",
      "metadata": {
        "id": "QClnmO00sytu",
        "colab_type": "code",
        "colab": {}
      },
      "source": [
        "%reload_ext tensorboard\n",
        "%tensorboard --logdir \"$base_dir\""
      ],
      "execution_count": 0,
      "outputs": []
    },
    {
      "cell_type": "markdown",
      "metadata": {
        "id": "qh8xRnT17dp0",
        "colab_type": "text"
      },
      "source": [
        "Train model"
      ]
    },
    {
      "cell_type": "code",
      "metadata": {
        "id": "QBqtE8mf0QpC",
        "colab_type": "code",
        "colab": {}
      },
      "source": [
        "trainer = Trainer(\n",
        "  max_epochs=max_epochs,\n",
        "  logger=logger,\n",
        "  log_gpu_memory='min_max',\n",
        "  gpus=1,\n",
        "  checkpoint_callback=checkpoint_callback\n",
        ")\n",
        "\n",
        "trainer.fit(\n",
        "  model,\n",
        "  train_dataloader=train_loader,\n",
        "  val_dataloaders=val_loader,\n",
        ")\n",
        "\n",
        "best_model_path = min(\n",
        "    checkpoint_callback.best_k_models, \n",
        "    key=checkpoint_callback.best_k_models.get\n",
        ")\n",
        "\n",
        "print(best_model_path)"
      ],
      "execution_count": 0,
      "outputs": []
    },
    {
      "cell_type": "markdown",
      "metadata": {
        "id": "wnEMyWi43AnZ",
        "colab_type": "text"
      },
      "source": [
        "Load and evaluate best model checkpoint"
      ]
    },
    {
      "cell_type": "code",
      "metadata": {
        "id": "-VO5vH2_0vcr",
        "colab_type": "code",
        "colab": {}
      },
      "source": [
        "\n",
        "best_model = model_type.load_from_checkpoint('/content/gdrive/My Drive/pytorch/isr/bsd300/SrResNet/_ckpt_epoch_1553.ckpt')\n",
        "\n",
        "test_trainer = Trainer(gpu=1,\n",
        "  train_dataloader=train_loader,\n",
        "  val_dataloaders=val_loader,\n",
        ")\n",
        "\n",
        "test_trainer.train_dataloader = train_loader\n",
        "test_trainer.val_dataloaders = [val_loader]\n",
        "test_trainer.test(\n",
        "  best_model,\n",
        "  test_dataloaders=test_loader\n",
        ")"
      ],
      "execution_count": 0,
      "outputs": []
    },
    {
      "cell_type": "markdown",
      "metadata": {
        "id": "091pH7F9uWiP",
        "colab_type": "text"
      },
      "source": [
        "Load full images and apply model"
      ]
    },
    {
      "cell_type": "code",
      "metadata": {
        "id": "7xnDZHRiRWtM",
        "colab_type": "code",
        "colab": {}
      },
      "source": [
        "bsd300_test = load_bsd300('../data', split='test', image_mode=img_mode)\n",
        "test_data = IsrDataset(\n",
        "        bsd300_test,\n",
        "        output_size=None,\n",
        "        scale_factor=4,\n",
        "        deterministic=True\n",
        ")"
      ],
      "execution_count": 0,
      "outputs": []
    },
    {
      "cell_type": "code",
      "metadata": {
        "id": "WG2p01LIH30Y",
        "colab_type": "code",
        "colab": {}
      },
      "source": [
        "img_idx = 28\n",
        "\n",
        "sample, target = test_data[img_idx]\n",
        "scale_factor = best_model.scale_factor\n",
        "interpolate = sample.resize((sample.size[0] * scale_factor, sample.size[1] * scale_factor), Image.BICUBIC)\n",
        "if img_mode == 'RGB':\n",
        "  output = super_resolve_rgb(best_model, sample)\n",
        "else:\n",
        "  output = super_resolve_ycbcr(best_model, sample)\n",
        "\n",
        "fig, (ax1, ax2,ax3, ax4) = plt.subplots(1, 4, figsize=(20,20))\n",
        "ax1.imshow(sample)\n",
        "ax1.set_title('low res')\n",
        "ax1.set_axis_off()\n",
        "ax2.imshow(interpolate)\n",
        "ax2.set_title('bicubic')\n",
        "ax2.set_axis_off()\n",
        "ax3.imshow(output)\n",
        "ax3.set_title('srresnet')\n",
        "ax3.set_axis_off()\n",
        "ax4.imshow(target)\n",
        "ax4.set_title('original')\n",
        "ax4.set_axis_off()\n"
      ],
      "execution_count": 0,
      "outputs": []
    }
  ]
}
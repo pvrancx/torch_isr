{
  "nbformat": 4,
  "nbformat_minor": 0,
  "metadata": {
    "colab": {
      "name": "pretrain_discriminator.ipynb",
      "provenance": [],
      "collapsed_sections": [],
      "authorship_tag": "ABX9TyPymB2o6gi0c3uqDAUXEo1d",
      "include_colab_link": true
    },
    "kernelspec": {
      "name": "python3",
      "display_name": "Python 3"
    },
    "accelerator": "GPU"
  },
  "cells": [
    {
      "cell_type": "markdown",
      "metadata": {
        "id": "view-in-github",
        "colab_type": "text"
      },
      "source": [
        "<a href=\"https://colab.research.google.com/github/pvrancx/torch_isr/blob/master/colabs/pretrain_discriminator.ipynb\" target=\"_parent\"><img src=\"https://colab.research.google.com/assets/colab-badge.svg\" alt=\"Open In Colab\"/></a>"
      ]
    },
    {
      "cell_type": "markdown",
      "metadata": {
        "id": "rCdpwPag9iE_",
        "colab_type": "text"
      },
      "source": [
        "Supervised pretraining of discriminator before use in GAN training"
      ]
    },
    {
      "cell_type": "code",
      "metadata": {
        "id": "6ozAJqcNeRrx",
        "colab_type": "code",
        "colab": {}
      },
      "source": [
        "! pip install pytorch-lightning"
      ],
      "execution_count": 0,
      "outputs": []
    },
    {
      "cell_type": "code",
      "metadata": {
        "id": "qZc_XnWHeUGk",
        "colab_type": "code",
        "colab": {}
      },
      "source": [
        "% cd \"/content\"\n",
        "! git clone \"https://github.com/pvrancx/torch_isr.git\"\n",
        "% cd \"/content/torch_isr\"\n",
        "! git pull"
      ],
      "execution_count": 0,
      "outputs": []
    },
    {
      "cell_type": "code",
      "metadata": {
        "id": "jBvRDqxJeXoa",
        "colab_type": "code",
        "colab": {}
      },
      "source": [
        "from pytorch_lightning import Trainer\n",
        "import torch\n",
        "from torch.utils.data import random_split, DataLoader\n",
        "from torchvision.transforms import transforms\n",
        "from pytorch_lightning.callbacks import ModelCheckpoint\n",
        "from pytorch_lightning.loggers import TensorBoardLogger\n",
        "\n",
        "from isr.datasets.bsd import load_bsd300\n",
        "from isr.datasets.transforms import ChannelSelect\n",
        "from isr.datasets.isr import IsrDataset\n",
        "from isr.datasets.gan import DiscriminatorDataset\n",
        "from isr.models.srcnn import SrCnn, SubPixelSrCnn\n",
        "from isr.models.srresnet import SrResNet\n",
        "from isr.models.srgan import SrGan, Discriminator\n",
        "\n",
        "from super_resolve import super_resolve_ycbcr, super_resolve_rgb\n",
        "\n",
        "import os\n",
        "from PIL import Image\n",
        "from argparse import ArgumentParser\n",
        "import matplotlib.pyplot as plt\n",
        "%matplotlib inline"
      ],
      "execution_count": 0,
      "outputs": []
    },
    {
      "cell_type": "markdown",
      "metadata": {
        "id": "L9gjhksa8VOj",
        "colab_type": "text"
      },
      "source": [
        "Create ISR dataset"
      ]
    },
    {
      "cell_type": "code",
      "metadata": {
        "id": "4FexM12se7Wm",
        "colab_type": "code",
        "colab": {}
      },
      "source": [
        "bsd300_train = load_bsd300('../data', split='train', image_mode='RGB')\n",
        "\n",
        "train_transforms = transforms.Compose([\n",
        "    transforms.RandomHorizontalFlip(),\n",
        "    transforms.RandomRotation(15),\n",
        "    ])\n",
        "\n",
        "isr_data = IsrDataset(\n",
        "  bsd300_train,\n",
        "  output_size=96,\n",
        "  scale_factor=4,\n",
        "  deterministic=False,\n",
        "  base_image_transform=train_transforms,\n",
        "  transform=transforms.ToTensor(),\n",
        "  target_transform=transforms.ToTensor()\n",
        ")\n"
      ],
      "execution_count": 0,
      "outputs": []
    },
    {
      "cell_type": "markdown",
      "metadata": {
        "id": "405cgEQi8L2m",
        "colab_type": "text"
      },
      "source": [
        "Load trained ISR model and create dataset of real and fake images"
      ]
    },
    {
      "cell_type": "code",
      "metadata": {
        "id": "kZzZsGpigfLq",
        "colab_type": "code",
        "colab": {}
      },
      "source": [
        "generator = SrResNet.load_from_checkpoint('/content/torch_isr/trained_models/srresnet4x.ckpt')\n",
        "dataset = DiscriminatorDataset(isr_data, generator)"
      ],
      "execution_count": 0,
      "outputs": []
    },
    {
      "cell_type": "code",
      "metadata": {
        "id": "G4E5NO2ijODx",
        "colab_type": "code",
        "colab": {}
      },
      "source": [
        "n_train = int(len(dataset) * 0.8)\n",
        "split = [n_train, len(dataset) - n_train]\n",
        "\n",
        "train_data, val_data = random_split(dataset, split)\n",
        "train_loader = DataLoader(train_data, shuffle=True, batch_size=32, num_workers=2)\n",
        "val_loader = DataLoader(val_data, shuffle=False, batch_size=32, num_workers=2)"
      ],
      "execution_count": 0,
      "outputs": []
    },
    {
      "cell_type": "code",
      "metadata": {
        "id": "YqfsaSRkgoaT",
        "colab_type": "code",
        "colab": {}
      },
      "source": [
        "base_dir = '/content/discriminator'\n",
        "chkptdir_dir = os.path.join(base_dir, 'checkpoints')\n",
        "\n",
        "!mkdir -p chkptdir_dir\n",
        "\n",
        "checkpoint_callback = ModelCheckpoint(\n",
        "  filepath=chkptdir_dir,\n",
        "  save_top_k=3,\n",
        "  verbose=False,\n",
        "  monitor='val_loss',\n",
        "  mode='min'\n",
        ")\n",
        "\n",
        "logger = TensorBoardLogger(base_dir, name=\"tb_logs\")"
      ],
      "execution_count": 0,
      "outputs": []
    },
    {
      "cell_type": "markdown",
      "metadata": {
        "id": "CbHxXgYL9-rB",
        "colab_type": "text"
      },
      "source": [
        "Create binary classifier"
      ]
    },
    {
      "cell_type": "code",
      "metadata": {
        "id": "FYVGjgEhijPD",
        "colab_type": "code",
        "colab": {}
      },
      "source": [
        "# get default arg settings\n",
        "parser = ArgumentParser()\n",
        "parser = Trainer.add_argparse_args(parser)\n",
        "parser = Discriminator.add_model_specific_args(parser)\n",
        "hparams = parser.parse_args([])\n",
        "\n",
        "# customize settings\n",
        "hparams.img_shape = (96, 96)\n",
        "hparams.lr = 1e-4\n",
        "hparams.in_channels = 3\n",
        "hparams.max_epochs = 200\n",
        "\n",
        "model = Discriminator(hparams)"
      ],
      "execution_count": 0,
      "outputs": []
    },
    {
      "cell_type": "code",
      "metadata": {
        "id": "-K_qvYbjjCYF",
        "colab_type": "code",
        "colab": {}
      },
      "source": [
        "%reload_ext tensorboard\n",
        "%tensorboard --logdir \"$base_dir\""
      ],
      "execution_count": 0,
      "outputs": []
    },
    {
      "cell_type": "markdown",
      "metadata": {
        "id": "uTrlqMzy83cP",
        "colab_type": "text"
      },
      "source": [
        "Train discriminator as standard classifier to distinguish between real and fake images"
      ]
    },
    {
      "cell_type": "code",
      "metadata": {
        "id": "PuXYfiF3jE0W",
        "colab_type": "code",
        "colab": {}
      },
      "source": [
        "trainer = Trainer(\n",
        "  max_epochs=200,\n",
        "  logger=logger,\n",
        "  log_gpu_memory='min_max',\n",
        "  gpus=1,\n",
        "  checkpoint_callback=checkpoint_callback\n",
        ")\n",
        "\n",
        "trainer.fit(\n",
        "  model,\n",
        "  train_dataloader=train_loader,\n",
        "  val_dataloaders=val_loader,\n",
        ")"
      ],
      "execution_count": 0,
      "outputs": []
    },
    {
      "cell_type": "markdown",
      "metadata": {
        "id": "qX21bW7J9GbA",
        "colab_type": "text"
      },
      "source": [
        "Try discriminator"
      ]
    },
    {
      "cell_type": "code",
      "metadata": {
        "id": "d6Fbtkzh4iRx",
        "colab_type": "code",
        "colab": {}
      },
      "source": [
        "img_lr, img_hr = isr_data[0]"
      ],
      "execution_count": 0,
      "outputs": []
    },
    {
      "cell_type": "markdown",
      "metadata": {
        "id": "01PJIO0P9KQk",
        "colab_type": "text"
      },
      "source": [
        "Real image:"
      ]
    },
    {
      "cell_type": "code",
      "metadata": {
        "id": "Z9qbAE6P57Yz",
        "colab_type": "code",
        "colab": {}
      },
      "source": [
        "plt.imshow(img_hr.squeeze(0).permute([1,2,0]))"
      ],
      "execution_count": 0,
      "outputs": []
    },
    {
      "cell_type": "markdown",
      "metadata": {
        "id": "dm-0rHlz9MsS",
        "colab_type": "text"
      },
      "source": [
        "Generated image:"
      ]
    },
    {
      "cell_type": "code",
      "metadata": {
        "id": "D2SCt-J86ZM3",
        "colab_type": "code",
        "colab": {}
      },
      "source": [
        "fake_img = generator(img_lr.unsqueeze(0)).detach()"
      ],
      "execution_count": 0,
      "outputs": []
    },
    {
      "cell_type": "code",
      "metadata": {
        "id": "KoqLQGNg7BTG",
        "colab_type": "code",
        "colab": {}
      },
      "source": [
        "plt.imshow(fake_img.squeeze(0).permute([1,2,0]))"
      ],
      "execution_count": 0,
      "outputs": []
    },
    {
      "cell_type": "markdown",
      "metadata": {
        "id": "P-9INZhU9PBD",
        "colab_type": "text"
      },
      "source": [
        "Test discriminator on both images"
      ]
    },
    {
      "cell_type": "code",
      "metadata": {
        "id": "i6y5QqrS7GHC",
        "colab_type": "code",
        "colab": {}
      },
      "source": [
        "model(img_hr.unsqueeze(0))"
      ],
      "execution_count": 0,
      "outputs": []
    },
    {
      "cell_type": "code",
      "metadata": {
        "id": "JaXhHa1O7SPG",
        "colab_type": "code",
        "colab": {}
      },
      "source": [
        "model(fake_img)"
      ],
      "execution_count": 0,
      "outputs": []
    }
  ]
}
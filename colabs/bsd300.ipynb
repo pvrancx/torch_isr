{
  "nbformat": 4,
  "nbformat_minor": 0,
  "metadata": {
    "colab": {
      "name": "bsd300.ipynb",
      "provenance": [],
      "collapsed_sections": [],
      "authorship_tag": "ABX9TyMGLceJgwrSROQC/w9vyIvA",
      "include_colab_link": true
    },
    "kernelspec": {
      "name": "python3",
      "display_name": "Python 3"
    },
    "accelerator": "GPU"
  },
  "cells": [
    {
      "cell_type": "markdown",
      "metadata": {
        "id": "view-in-github",
        "colab_type": "text"
      },
      "source": [
        "<a href=\"https://colab.research.google.com/github/pvrancx/torch_isr/blob/master/colabs/bsd300.ipynb\" target=\"_parent\"><img src=\"https://colab.research.google.com/assets/colab-badge.svg\" alt=\"Open In Colab\"/></a>"
      ]
    },
    {
      "cell_type": "code",
      "metadata": {
        "id": "-5mHu3BHsLjZ",
        "colab_type": "code",
        "colab": {}
      },
      "source": [
        "! pip install pytorch-lightning"
      ],
      "execution_count": 0,
      "outputs": []
    },
    {
      "cell_type": "code",
      "metadata": {
        "id": "J6xcju0QrJKV",
        "colab_type": "code",
        "colab": {}
      },
      "source": [
        "from google.colab import drive\n",
        "drive.mount('/content/gdrive')"
      ],
      "execution_count": 0,
      "outputs": []
    },
    {
      "cell_type": "code",
      "metadata": {
        "id": "LdRcPnG9rQog",
        "colab_type": "code",
        "colab": {}
      },
      "source": [
        "! mkdir -p \"/content/gdrive/My Drive/pytorch/isr/bsd300\""
      ],
      "execution_count": 0,
      "outputs": []
    },
    {
      "cell_type": "code",
      "metadata": {
        "id": "Dkeshw_ureaV",
        "colab_type": "code",
        "colab": {}
      },
      "source": [
        "% cd \"/content/gdrive/My Drive/pytorch/isr/bsd300\""
      ],
      "execution_count": 0,
      "outputs": []
    },
    {
      "cell_type": "code",
      "metadata": {
        "id": "vx6vezGeriIO",
        "colab_type": "code",
        "colab": {}
      },
      "source": [
        "! git clone https://github.com/pvrancx/torch_isr.git"
      ],
      "execution_count": 0,
      "outputs": []
    },
    {
      "cell_type": "code",
      "metadata": {
        "id": "H-HqtNOArmv3",
        "colab_type": "code",
        "colab": {}
      },
      "source": [
        "% cd /content/gdrive/My Drive/pytorch/isr/bsd300/torch_isr/\n",
        "! git pull"
      ],
      "execution_count": 0,
      "outputs": []
    },
    {
      "cell_type": "code",
      "metadata": {
        "id": "QClnmO00sytu",
        "colab_type": "code",
        "colab": {}
      },
      "source": [
        "%load_ext tensorboard\n",
        "%tensorboard --logdir \"/content/gdrive/My Drive/pytorch/isr/bsd300/logs/\""
      ],
      "execution_count": 0,
      "outputs": []
    },
    {
      "cell_type": "code",
      "metadata": {
        "id": "HwY8VdrAsHca",
        "colab_type": "code",
        "colab": {}
      },
      "source": [
        "from pytorch_lightning import Trainer\n",
        "from torch.utils.data import random_split, DataLoader\n",
        "from torchvision.transforms import transforms\n",
        "from pytorch_lightning.callbacks import ModelCheckpoint\n",
        "from pytorch_lightning.loggers import TensorBoardLogger\n",
        "\n",
        "from isr.datasets.bsd import load_bsd300\n",
        "from isr.datasets.isr import IsrDataset\n",
        "from isr.lightning_model import LightningIsr\n",
        "from isr.models.srcnn import SrCnn\n",
        "\n",
        "import matplotlib.pyplot as plt\n",
        "%matplotlib inline"
      ],
      "execution_count": 0,
      "outputs": []
    },
    {
      "cell_type": "code",
      "metadata": {
        "id": "Hf6rQOUArtCf",
        "colab_type": "code",
        "colab": {}
      },
      "source": [
        "def main(scale_factor=2):\n",
        "    bsd300_train = load_bsd300('../data', split='train')\n",
        "    bsd300_test = load_bsd300('../data', split='test')\n",
        "\n",
        "    train_transforms = transforms.Compose([\n",
        "        transforms.RandomHorizontalFlip(),\n",
        "        transforms.RandomRotation(15),\n",
        "        transforms.ToTensor()\n",
        "    ])\n",
        "\n",
        "    test_transforms = transforms.ToTensor()\n",
        "    train_data = IsrDataset(\n",
        "        bsd300_train,\n",
        "        output_size=200,\n",
        "        scale_factor=scale_factor,\n",
        "        deterministic=False,\n",
        "        transform=train_transforms,\n",
        "        target_transform=transforms.ToTensor()\n",
        "    )\n",
        "    n_train = int(len(train_data) * 0.8)\n",
        "    split = [n_train, len(train_data) - n_train]\n",
        "    train_data, val_data = random_split(train_data, split)\n",
        "    test_data = IsrDataset(\n",
        "        bsd300_test,\n",
        "        output_size=200,\n",
        "        scale_factor=scale_factor,\n",
        "        deterministic=True,\n",
        "        transform=test_transforms,\n",
        "        target_transform=transforms.ToTensor()\n",
        "    )\n",
        "\n",
        "    checkpoint_callback = ModelCheckpoint(\n",
        "        filepath=\"/content/gdrive/My Drive/pytorch/isr/bsd300/weights.ckpt\",\n",
        "        save_top_k=3,\n",
        "        verbose=False,\n",
        "        monitor='val_loss',\n",
        "        mode='min'\n",
        "      )\n",
        "    \n",
        "    logger = TensorBoardLogger(\"/content/gdrive/My Drive/pytorch/isr/bsd300/logs\", \n",
        "                               name=\"isr\")\n",
        "\n",
        "\n",
        "    model = LightningIsr(SrCnn, {'model_params': {'scale_factor': scale_factor}})\n",
        "    trainer = Trainer(max_epochs=200,\n",
        "                      logger=logger,\n",
        "                      log_gpu_memory='min_max',\n",
        "                      gpus=1,\n",
        "                      checkpoint_callback=checkpoint_callback)\n",
        "    trainer.fit(\n",
        "        model,\n",
        "        train_dataloader=DataLoader(train_data, shuffle=True, batch_size=32, num_workers=2),\n",
        "        val_dataloaders=DataLoader(val_data, shuffle=False, batch_size=32, num_workers=2),\n",
        "    )\n",
        "    trainer.test(\n",
        "        model,\n",
        "        test_dataloaders=DataLoader(test_data, shuffle=False, batch_size=32, num_workers=2)\n",
        "    )"
      ],
      "execution_count": 0,
      "outputs": []
    },
    {
      "cell_type": "code",
      "metadata": {
        "id": "Shz9Ye2Fs64i",
        "colab_type": "code",
        "colab": {}
      },
      "source": [
        "main(scale_factor=2)"
      ],
      "execution_count": 0,
      "outputs": []
    },
    {
      "cell_type": "code",
      "metadata": {
        "id": "6dlC_RNks8Wq",
        "colab_type": "code",
        "colab": {}
      },
      "source": [
        "\n",
        "model = LightningIsr.load_from_checkpoint(\n",
        "    '/content/gdrive/My Drive/pytorch/isr/bsd300/_ckpt_epoch_111.ckpt',\n",
        "    model_factory=SrCnn, \n",
        "    hparams={'model_params':{'scale_factor': 2}}\n",
        "    )\n"
      ],
      "execution_count": 0,
      "outputs": []
    },
    {
      "cell_type": "code",
      "metadata": {
        "id": "Ld7aPhIu-jSk",
        "colab_type": "code",
        "colab": {}
      },
      "source": [
        "  bsd300_test = load_bsd300('../data', split='test')\n",
        "  test_data = IsrDataset(\n",
        "        bsd300_test,\n",
        "        output_size=200,\n",
        "        scale_factor=2,\n",
        "        deterministic=True,\n",
        "        transform=transforms.ToTensor(),\n",
        "        target_transform=transforms.ToTensor()\n",
        "    )"
      ],
      "execution_count": 0,
      "outputs": []
    },
    {
      "cell_type": "code",
      "metadata": {
        "id": "8ChdMUeG_fNK",
        "colab_type": "code",
        "colab": {}
      },
      "source": [
        "sample = test_data[10][0]\n",
        "output = model(sample.view(1,3,100,100))\n",
        "\n",
        "fig, (ax1, ax2) = plt.subplots(1, 2)\n",
        "ax1.imshow(sample.view(3,100,100).permute([1,2,0]))\n",
        "ax2.imshow(output.view(3,200,200).permute([1,2,0]).detach())"
      ],
      "execution_count": 0,
      "outputs": []
    },
    {
      "cell_type": "code",
      "metadata": {
        "id": "4AzTZu6SBk4Z",
        "colab_type": "code",
        "colab": {}
      },
      "source": [
        ""
      ],
      "execution_count": 0,
      "outputs": []
    }
  ]
}
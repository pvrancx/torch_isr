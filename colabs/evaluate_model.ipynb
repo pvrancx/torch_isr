{
  "nbformat": 4,
  "nbformat_minor": 0,
  "metadata": {
    "colab": {
      "name": "Evaluate_model.ipynb",
      "provenance": [],
      "authorship_tag": "ABX9TyOTDAkXHuOBoOlAXuBhiEl/",
      "include_colab_link": true
    },
    "kernelspec": {
      "name": "python3",
      "display_name": "Python 3"
    }
  },
  "cells": [
    {
      "cell_type": "markdown",
      "metadata": {
        "id": "view-in-github",
        "colab_type": "text"
      },
      "source": [
        "<a href=\"https://colab.research.google.com/github/pvrancx/torch_isr/blob/master/colabs/evaluate_model.ipynb\" target=\"_parent\"><img src=\"https://colab.research.google.com/assets/colab-badge.svg\" alt=\"Open In Colab\"/></a>"
      ]
    },
    {
      "cell_type": "code",
      "metadata": {
        "id": "ZHdkj3HKbBKG",
        "colab_type": "code",
        "colab": {}
      },
      "source": [
        "! pip install pytorch-lightning"
      ],
      "execution_count": 0,
      "outputs": []
    },
    {
      "cell_type": "markdown",
      "metadata": {
        "id": "k1ID--OPlA65",
        "colab_type": "text"
      },
      "source": [
        "Checkount repo"
      ]
    },
    {
      "cell_type": "code",
      "metadata": {
        "id": "UMD82EkZbD9n",
        "colab_type": "code",
        "colab": {}
      },
      "source": [
        "% cd \"/content\"\n",
        "! git clone \"https://github.com/pvrancx/torch_isr.git\"\n",
        "% cd \"/content/torch_isr\"\n",
        "! git pull"
      ],
      "execution_count": 0,
      "outputs": []
    },
    {
      "cell_type": "code",
      "metadata": {
        "id": "lTE88RGMbKAO",
        "colab_type": "code",
        "colab": {}
      },
      "source": [
        "from pytorch_lightning import Trainer\n",
        "import torch\n",
        "from torch.utils.data import random_split, DataLoader\n",
        "from torchvision.transforms import transforms\n",
        "from pytorch_lightning.callbacks import ModelCheckpoint\n",
        "from pytorch_lightning.loggers import TensorBoardLogger\n",
        "\n",
        "from isr.datasets.bsd import load_bsd300\n",
        "from isr.datasets.transforms import ChannelSelect\n",
        "from isr.datasets.isr import IsrDataset\n",
        "from isr.models.srcnn import SrCnn, SubPixelSrCnn\n",
        "from isr.models.srresnet import SrResNet\n",
        "from isr.models.srgan import SrGan, Discriminator\n",
        "\n",
        "from super_resolve import super_resolve_ycbcr, super_resolve_rgb\n",
        "\n",
        "import os\n",
        "from PIL import Image\n",
        "from argparse import ArgumentParser\n",
        "import matplotlib.pyplot as plt\n",
        "%matplotlib inline"
      ],
      "execution_count": 0,
      "outputs": []
    },
    {
      "cell_type": "markdown",
      "metadata": {
        "id": "xwePOqDvlE1A",
        "colab_type": "text"
      },
      "source": [
        "Load previously trained model\n"
      ]
    },
    {
      "cell_type": "code",
      "metadata": {
        "id": "AslbrZksbN-6",
        "colab_type": "code",
        "colab": {}
      },
      "source": [
        "from google.colab import drive\n",
        "drive.mount('/content/gdrive')"
      ],
      "execution_count": 0,
      "outputs": []
    },
    {
      "cell_type": "code",
      "metadata": {
        "id": "_E8pKinubTCA",
        "colab_type": "code",
        "colab": {}
      },
      "source": [
        "model = SrResNet.load_from_checkpoint('/content/torch_isr/trained_models/srresnet4x.ckpt')"
      ],
      "execution_count": 0,
      "outputs": []
    },
    {
      "cell_type": "markdown",
      "metadata": {
        "id": "Vc_GsslYlQtB",
        "colab_type": "text"
      },
      "source": [
        "Load test data"
      ]
    },
    {
      "cell_type": "code",
      "metadata": {
        "id": "n8J3oVFGbpQW",
        "colab_type": "code",
        "colab": {}
      },
      "source": [
        "bsd300_test = load_bsd300('../data', split='test', image_mode='RGB')\n",
        "test_data = IsrDataset(\n",
        "        bsd300_test,\n",
        "        output_size=None,\n",
        "        scale_factor=4,\n",
        "        deterministic=True\n",
        ")"
      ],
      "execution_count": 0,
      "outputs": []
    },
    {
      "cell_type": "markdown",
      "metadata": {
        "id": "zbsPYJD6lTkk",
        "colab_type": "text"
      },
      "source": [
        "Apply model"
      ]
    },
    {
      "cell_type": "code",
      "metadata": {
        "id": "woJATZZ5b5t-",
        "colab_type": "code",
        "colab": {}
      },
      "source": [
        "img_idx = 23\n",
        "\n",
        "lr_img, hr_img = test_data[img_idx]\n",
        "scale_factor = model.scale_factor\n",
        "interpolate = lr_img.resize((lr_img.size[0] * scale_factor, lr_img.size[1] * scale_factor), Image.BICUBIC)\n",
        "output = super_resolve_rgb(model, lr_img)\n",
        "\n",
        "fig, (ax1, ax2, ax3, ax4) = plt.subplots(1, 4, figsize=(15,15))\n",
        "ax1.imshow(lr_img)\n",
        "ax1.set_title('low res')\n",
        "ax1.set_axis_off()\n",
        "ax2.imshow(interpolate)\n",
        "ax2.set_title('bicubic')\n",
        "ax2.set_axis_off()\n",
        "ax3.imshow(output)\n",
        "ax3.set_title('srresnet')\n",
        "ax3.set_axis_off()\n",
        "ax4.imshow(hr_img)\n",
        "ax4.set_title('original')\n",
        "ax4.set_axis_off()"
      ],
      "execution_count": 0,
      "outputs": []
    },
    {
      "cell_type": "code",
      "metadata": {
        "id": "mzMEEM6FcEWq",
        "colab_type": "code",
        "colab": {}
      },
      "source": [
        ""
      ],
      "execution_count": 0,
      "outputs": []
    }
  ]
}